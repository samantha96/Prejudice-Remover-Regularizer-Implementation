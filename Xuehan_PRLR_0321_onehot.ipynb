{
  "nbformat": 4,
  "nbformat_minor": 0,
  "metadata": {
    "colab": {
      "name": "Xuehan_PRLR_0321_onehot.ipynb",
      "provenance": [],
      "collapsed_sections": [],
      "toc_visible": true,
      "include_colab_link": true
    },
    "kernelspec": {
      "display_name": "Python 3",
      "language": "python",
      "name": "python3"
    },
    "language_info": {
      "codemirror_mode": {
        "name": "ipython",
        "version": 3
      },
      "file_extension": ".py",
      "mimetype": "text/x-python",
      "name": "python",
      "nbconvert_exporter": "python",
      "pygments_lexer": "ipython3",
      "version": "3.8.5"
    }
  },
  "cells": [
    {
      "cell_type": "markdown",
      "metadata": {
        "id": "view-in-github",
        "colab_type": "text"
      },
      "source": [
        "<a href=\"https://colab.research.google.com/github/samantha96/Prejudice-Remover-Regularizer-Implementation/blob/main/Xuehan_PRLR_0321_onehot.ipynb\" target=\"_parent\"><img src=\"https://colab.research.google.com/assets/colab-badge.svg\" alt=\"Open In Colab\"/></a>"
      ]
    },
    {
      "cell_type": "code",
      "metadata": {
        "id": "u8Aj1pOpvAZz"
      },
      "source": [
        "import torch as t\n",
        "import torch.nn as nn\n",
        "from torch.nn import functional as F\n",
        "import numpy as np\n",
        "import pandas as pd \n",
        "import re\n",
        "from sklearn.preprocessing import LabelEncoder\n",
        "import matplotlib.pyplot as plt"
      ],
      "execution_count": null,
      "outputs": []
    },
    {
      "cell_type": "markdown",
      "metadata": {
        "id": "0-xnETcmvPXm"
      },
      "source": [
        "## 1.Data Preprocessing"
      ]
    },
    {
      "cell_type": "code",
      "metadata": {
        "id": "cWF1MWvm6AAk"
      },
      "source": [
        "columns=['age', 'workclass', 'fnlwgt', 'education', 'education_num',\n",
        "       'marital_status', 'occupation', 'relationship', 'race', 'sex',\n",
        "       'capital_gain', 'capital_loss', 'hours_per_week', 'native_country',\n",
        "       'income']\n",
        "Train_data = pd.read_csv('http://archive.ics.uci.edu/ml/machine-learning-databases/adult/adult.data',header=None,names=columns)\n",
        "Test_data = pd.read_csv('http://archive.ics.uci.edu/ml/machine-learning-databases/adult/adult.test',header=None,names=columns,skiprows=1)"
      ],
      "execution_count": null,
      "outputs": []
    },
    {
      "cell_type": "code",
      "metadata": {
        "id": "Wmcb4pEm2G3r"
      },
      "source": [
        "def process(dataset):\n",
        "    df = dataset \n",
        "    df=df.replace(\" ?\",np.nan).dropna()#df.isnull().sum()\n",
        "    df['income']=df['income'].map({' <=50K': 0, ' <=50K.': 0,' >50K': 1,' >50K.': 1})\n",
        "    df['sex']=df['sex'].map({' Female': 1, ' Male': 0})\n",
        "    return df\n",
        "  "
      ],
      "execution_count": null,
      "outputs": []
    },
    {
      "cell_type": "code",
      "metadata": {
        "id": "xLjILqX41PXL"
      },
      "source": [
        "def bin_var(data, var, bins, group_names):\n",
        "    ds = data\n",
        "    bin_value = bins\n",
        "    group = group_names\n",
        "    data[var] = pd.cut(ds[var], bin_value, labels=group)"
      ],
      "execution_count": null,
      "outputs": []
    },
    {
      "cell_type": "code",
      "metadata": {
        "id": "lX3B2u_d2eCC"
      },
      "source": [
        "def workclas(x):\n",
        "    if re.search('Private', x):\n",
        "        return 'Private'\n",
        "    elif re.search('Self', x):\n",
        "        return 'selfempl'\n",
        "    elif re.search('gov', x):\n",
        "        return 'gov'\n",
        "    else:\n",
        "        return 'others'"
      ],
      "execution_count": null,
      "outputs": []
    },
    {
      "cell_type": "code",
      "metadata": {
        "id": "RnSEu9h37Wl_"
      },
      "source": [
        "def relation(x):\n",
        "  if re.search('Husband',x):\n",
        "    return 'married'\n",
        "  elif re.search('Wife', x):\n",
        "    return 'married'\n",
        "  else:\n",
        "    return x"
      ],
      "execution_count": null,
      "outputs": []
    },
    {
      "cell_type": "code",
      "metadata": {
        "id": "upQRZpr9CYb3"
      },
      "source": [
        "def occup(x):\n",
        "  if re.search('managerial', x):\n",
        "    return 'Highskill'\n",
        "  elif re.search('specialty',x):\n",
        "    return 'Highskill'\n",
        "  elif re.search('clerical',x):\n",
        "    return 'Highskill'\n",
        "  else:\n",
        "    return 'Lowskill'"
      ],
      "execution_count": null,
      "outputs": []
    },
    {
      "cell_type": "code",
      "metadata": {
        "id": "Om8bDHk51V80"
      },
      "source": [
        "def featureeng(df):\n",
        "    bin_var(df, 'education_num', [0,6,11,16], ['Low', 'Medium', 'High'])\n",
        "    bin_var(df, 'hours_per_week', [0,35,40,60,100], ['Low', 'Medium', 'High','VeryHigh'])\n",
        "    bin_var(df, 'age', [17,30,55,100], ['Young', 'Middle_aged', 'Old'])\n",
        "    df['workclass']=df.workclass.apply(lambda x: x.strip()).apply(lambda x: workclas(x))\n",
        "    df['occupation']=df.occupation.apply(lambda x: x.strip()).apply(lambda x: occup(x))\n",
        "    df['relationship']=df.relationship.apply(lambda x: x.strip()).apply(lambda x: relation(x))\n",
        "    df.drop(['marital_status','education','fnlwgt','capital_gain','capital_loss','native_country'], axis=1, inplace=True)\n",
        "    df = df.astype(str).apply(lambda col: LabelEncoder().fit_transform(col))\n",
        "    return df\n"
      ],
      "execution_count": null,
      "outputs": []
    },
    {
      "cell_type": "code",
      "metadata": {
        "id": "bwj4h0ewYV6A"
      },
      "source": [
        "def one_hot(data):\n",
        "  x_data = data\n",
        "  x_onehot =  F.one_hot(x_data[:,0])\n",
        "  for i in range(1,x_data.shape[1]):\n",
        "    x = F.one_hot(x_data[:,i])\n",
        "    x_onehot = t.cat((x_onehot,x),1)\n",
        "  return x_onehot"
      ],
      "execution_count": null,
      "outputs": []
    },
    {
      "cell_type": "markdown",
      "metadata": {
        "id": "I1AgqkPXggcA"
      },
      "source": [
        "### Process training dataset"
      ]
    },
    {
      "cell_type": "code",
      "metadata": {
        "id": "gW2xZ8Ep_Lb_"
      },
      "source": [
        "df = process(Train_data) # y(target): income >50:1  <50:0\n",
        "df = featureeng(df)"
      ],
      "execution_count": null,
      "outputs": []
    },
    {
      "cell_type": "markdown",
      "metadata": {
        "id": "1Y81IB63Z5Ad"
      },
      "source": [
        "Only Female dataset for training"
      ]
    },
    {
      "cell_type": "code",
      "metadata": {
        "id": "zWAKhOoUGWKW"
      },
      "source": [
        "#female\n",
        "f = df.loc[df['sex']==1]\n",
        "x_female = one_hot(t.from_numpy(np.array(f.drop(columns=['income','sex'])))).to(t.float32)\n",
        "y_female = t.from_numpy(np.array(f['income']).astype('float32')).reshape(x_female.shape[0],1)\n",
        "xy_female = t.cat((x_female,y_female),1)"
      ],
      "execution_count": null,
      "outputs": []
    },
    {
      "cell_type": "markdown",
      "metadata": {
        "id": "3vYwRYhFZ_hD"
      },
      "source": [
        "Only male dataset for training"
      ]
    },
    {
      "cell_type": "code",
      "metadata": {
        "id": "1cM5xjopZjyq"
      },
      "source": [
        "#male\n",
        "m = df.loc[df['sex']==0]\n",
        "x_male = one_hot(t.from_numpy(np.array(m.drop(columns=['income','sex'])))).to(t.float32)\n",
        "y_male = t.from_numpy(np.array(m['income']).astype('float32')).reshape(x_male.shape[0],1)\n",
        "xy_male = t.cat((x_male,y_male),1)\n"
      ],
      "execution_count": null,
      "outputs": []
    },
    {
      "cell_type": "markdown",
      "metadata": {
        "id": "imZzGNjmggcE"
      },
      "source": [
        "### Process test dataset"
      ]
    },
    {
      "cell_type": "code",
      "metadata": {
        "id": "Lmc5byDhggcF"
      },
      "source": [
        "tf = process(Test_data) # y(target): income >50:1  <50:0\n",
        "tf = featureeng(tf)"
      ],
      "execution_count": null,
      "outputs": []
    },
    {
      "cell_type": "code",
      "metadata": {
        "id": "reFlJv3aggcF"
      },
      "source": [
        "x_test = one_hot(t.from_numpy(np.array(tf.drop(columns=['income','sex'])))).to(t.float32)\n",
        "y_test = t.from_numpy(np.array(tf['income']).astype('float32')).reshape(x_test.shape[0],1)"
      ],
      "execution_count": null,
      "outputs": []
    },
    {
      "cell_type": "code",
      "metadata": {
        "id": "04jlAGHaggcF"
      },
      "source": [
        "#female\n",
        "f = df.loc[df['sex']==1]\n",
        "xf_test = one_hot(t.from_numpy(np.array(f.drop(columns=['income','sex'])))).to(t.float32)\n",
        "yf_test = t.from_numpy(np.array(f['income']).astype('float32')).reshape(xf_test.shape[0],1)\n"
      ],
      "execution_count": null,
      "outputs": []
    },
    {
      "cell_type": "code",
      "metadata": {
        "id": "1sf7ioa7ggcG"
      },
      "source": [
        "#male\n",
        "m = df.loc[df['sex']==0]\n",
        "xm_test = one_hot(t.from_numpy(np.array(m.drop(columns=['income','sex'])))).to(t.float32)\n",
        "ym_test = t.from_numpy(np.array(m['income']).astype('float32')).reshape(xm_test.shape[0],1)\n"
      ],
      "execution_count": null,
      "outputs": []
    },
    {
      "cell_type": "code",
      "metadata": {
        "id": "i6o_QZFofMTh"
      },
      "source": [
        "#Try linear\n",
        "class LogisticRegression(nn.Module):\n",
        "     def __init__(self):\n",
        "        super(LogisticRegression, self).__init__()\n",
        "        # out_features is the number of outputs. I don't use bias here because the constant dimension in x already introduced the bias term in W.\n",
        "        self.w = nn.Linear(x_female.shape[1], out_features=1, bias=True)\n",
        "        self.sigmod = nn.Sigmoid()\n",
        "     def forward(self,x):\n",
        "        # For the torch.nn.NLLLoss, the first input is the \"log probability\",log_softmax? log sigmod(binary).\n",
        "        w = self.w(x)\n",
        "        output = self.sigmod(w)\n",
        "        return output"
      ],
      "execution_count": null,
      "outputs": []
    },
    {
      "cell_type": "markdown",
      "metadata": {
        "id": "OGdLb0RyvJAf"
      },
      "source": [
        "## 2.Define PRLR: \n",
        "### Object funtion: Loss function(negative log-likelihood) + Prejudice Remover Regularizer(mutual information) + l2 Regularizer"
      ]
    },
    {
      "cell_type": "code",
      "metadata": {
        "id": "UNF5cdsOggcH"
      },
      "source": [
        "class PRLoss():#using linear\n",
        "     def __init__(self, eta=1.0):\n",
        "        super(PRLoss, self).__init__()\n",
        "        self.eta = eta\n",
        "     def forward(self,output_f,output_m):\n",
        "        # For the mutual information, \n",
        "        # Pr[y|s] = sum{(xi,si),si=s} sigma(xi,si) / #D[xs]\n",
        "        #D[xs]\n",
        "        N_female = t.tensor(output_f.shape[0])\n",
        "        N_male   = t.tensor(output_m.shape[0])\n",
        "        Dxisi = t.stack((N_male,N_female),axis=0) #male sample, #female sample\n",
        "        # Pr[y|s]\n",
        "        y_pred_female = t.sum(output_f)\n",
        "        y_pred_male   = t.sum(output_m)\n",
        "        P_ys = t.stack((y_pred_male,y_pred_female),axis=0) / Dxisi\n",
        "        # Pr[y]\n",
        "        P = t.cat((output_f,output_m),0)\n",
        "        P_y = t.sum(P) / (x_female.shape[0]+x_male.shape[0])\n",
        "        # P(siyi)\n",
        "        P_s1y1 = t.log(P_ys[1]) - t.log(P_y)\n",
        "        P_s1y0 = t.log(1-P_ys[1]) - t.log(1-P_y)\n",
        "        P_s0y1 = t.log(P_ys[0]) - t.log(P_y)\n",
        "        P_s0y0 = t.log(1-P_ys[0]) - t.log(1-P_y)\n",
        "        # PI\n",
        "        PI_s1y1 = output_f * P_s1y1\n",
        "        PI_s1y0 =(1- output_f) * P_s1y0\n",
        "        PI_s0y1 = output_m * P_s0y1\n",
        "        PI_s0y0 = (1- output_m )* P_s0y0\n",
        "        PI = t.sum(PI_s1y1) + t.sum(PI_s1y0) + t.sum(PI_s0y1) + t.sum(PI_s0y0)\n",
        "        PI = self.eta * PI\n",
        "        return PI"
      ],
      "execution_count": null,
      "outputs": []
    },
    {
      "cell_type": "markdown",
      "metadata": {
        "id": "qL0RoEEwCXUF"
      },
      "source": [
        "## 3.Model Validation"
      ]
    },
    {
      "cell_type": "markdown",
      "metadata": {
        "id": "jsZ31V_HDIYG"
      },
      "source": [
        "### Accuracy"
      ]
    },
    {
      "cell_type": "code",
      "metadata": {
        "id": "VlbtXBfZggcL"
      },
      "source": [
        "def accuracy( Model_f,Model_m, x_female, y_female,x_male,y_male):\n",
        "    yf_pred = (Model_f(x_female) >= 0.5)\n",
        "    ym_pred = (Model_m(x_male) >= 0.5)\n",
        "    accu_f  = t.sum(yf_pred.flatten() == y_female.flatten()) / x_female.shape[0]\n",
        "    accu_m  = t.sum(ym_pred.flatten() == y_male.flatten()) / x_male.shape[0]\n",
        "    accuracy = (accu_f + accu_m) / 2\n",
        "    return round(accuracy.item(),4)\n",
        "    print(\"Accuracy : %.3f\" % (accuracy * 100)+'%')"
      ],
      "execution_count": null,
      "outputs": []
    },
    {
      "cell_type": "code",
      "metadata": {
        "id": "QN0XY7Zojkrn"
      },
      "source": [
        " yf_pred = (Model_f(x_female) >= 0.5)\n",
        " ym_pred = (Model_m(x_male) >= 0.5)\n",
        " accu_f  = t.sum(yf_pred.flatten() == y_female.flatten()) / x_female.shape[0]\n",
        " accu_m  = t.sum(ym_pred.flatten() == y_male.flatten()) / x_male.shape[0]"
      ],
      "execution_count": null,
      "outputs": []
    },
    {
      "cell_type": "code",
      "metadata": {
        "id": "10OxIbg2i7hN"
      },
      "source": [
        "      model_f = LogisticRegression()\n",
        "       model_m = LogisticRegression()\n",
        "       criterion = nn.BCELoss(reduction='sum')\n",
        "       PI = PRLoss(eta=self.eta)\n",
        "       epochs = self.epochs\n",
        "       optimizer = t.optim.Adam(list(model_f.parameters())+ list(model_m.parameters()), self.lr, weight_decay=1e-5)\n",
        "       for epoch in range(epochs):\n",
        "         optimizer.zero_grad()\n",
        "         output_f = model_f(x_female)\n",
        "         output_m = model_m(x_male)\n",
        "         logloss = criterion(output_f, y_female)+ criterion(output_m, y_male)\n",
        "         PIloss = PI.forward(output_f,output_m)\n",
        "         loss = PIloss +logloss\n",
        "         loss.backward()\n",
        "         optimizer.step()"
      ],
      "execution_count": null,
      "outputs": []
    },
    {
      "cell_type": "markdown",
      "metadata": {
        "id": "mhQd4-6kDLJt"
      },
      "source": [
        "### CV_score"
      ]
    },
    {
      "cell_type": "code",
      "metadata": {
        "colab": {
          "base_uri": "https://localhost:8080/"
        },
        "id": "tugeiaNF6xEJ",
        "outputId": "15a63b57-f16d-4cf5-9680-c88fc3be4d47"
      },
      "source": [
        "# CVscore: Calder-Verwer discrimination score\n",
        "# CV score on sample data: Pr[y=1 | S=0] - Pr[y=1 | S=1]\n",
        "# For sample training data\n",
        "# c=1: t.sum(y_data) 7508\n",
        "# s=1: t.sum(s_data_onehot[:,0]) 9782\n",
        "# s=0: t.sum(s_data_onehot[:,1]) 20380\n",
        "pf = df[df['sex'] == 1]\n",
        "high_f = pf[pf['income'] == 1]\n",
        "pm = df[df['sex'] == 0]\n",
        "high_m = pm[pm['income'] == 1]\n",
        "# p[c=1 | s=1] \n",
        "p_c1s1 = high_f.shape[0]/pf.shape[0]\n",
        "p_c1s0 = high_m.shape[0]/pm.shape[0]\n",
        "p_cs = p_c1s0 - p_c1s1\n",
        "print('training sample CV_score : %.4f' %( p_cs))"
      ],
      "execution_count": null,
      "outputs": [
        {
          "output_type": "stream",
          "text": [
            "training sample CV_score : 0.2002\n"
          ],
          "name": "stdout"
        }
      ]
    },
    {
      "cell_type": "code",
      "metadata": {
        "id": "hypivDDLggcN"
      },
      "source": [
        "def CVS(Model_f,Model_m,x_female,x_male):\n",
        "    yf_pred = (Model_f(x_female) >= 0.5)\n",
        "    ym_pred = (Model_m(x_male) >= 0.5)\n",
        "    corr_f = t.sum(yf_pred == True)\n",
        "    corr_m = t.sum(ym_pred == True)\n",
        "    P_y1_s1 = corr_f / x_female.shape[0]\n",
        "    P_y1_s0 = corr_m / x_male.shape[0]\n",
        "    CV_score = t.abs(P_y1_s0 - P_y1_s1)\n",
        "    return round(CV_score.item(),4)\n",
        "    print ('Calder-Verwer discrimination score: %.4f' % (CV_score.item()))\n",
        "    "
      ],
      "execution_count": null,
      "outputs": []
    },
    {
      "cell_type": "markdown",
      "metadata": {
        "id": "uM4hLdwIggcN"
      },
      "source": [
        "## 4.Model implementation: Logistic regression model with PR Regularizer"
      ]
    },
    {
      "cell_type": "code",
      "metadata": {
        "id": "cn5YdG02BB8Y"
      },
      "source": [
        "class PRLR():#using linear\n",
        "     def __init__(self, eta=0.0,epochs = 3000,lr = 0.01):\n",
        "        super(PRLR, self).__init__()\n",
        "        self.eta = eta\n",
        "        self.epochs = epochs\n",
        "        self.lr = lr\n",
        "     def fit(self,x_female,y_female,x_male,y_male):\n",
        "       model_f = LogisticRegression()\n",
        "       model_m = LogisticRegression()\n",
        "       criterion = nn.BCELoss(reduction='sum')\n",
        "       PI = PRLoss(eta=self.eta)\n",
        "       epochs = self.epochs\n",
        "       optimizer = t.optim.Adam(list(model_f.parameters())+ list(model_m.parameters()), self.lr, weight_decay=1e-5)\n",
        "       for epoch in range(epochs):\n",
        "         optimizer.zero_grad()\n",
        "         output_f = model_f(x_female)\n",
        "         output_m = model_m(x_male)\n",
        "         logloss = criterion(output_f, y_female)+ criterion(output_m, y_male)\n",
        "         PIloss = PI.forward(output_f,output_m)\n",
        "         loss = PIloss +logloss\n",
        "         loss.backward()\n",
        "         optimizer.step()\n",
        "       model_f.eval()\n",
        "       model_m.eval()\n",
        "       accu = accuracy(model_f,model_m,x_female,y_female,x_male,y_male)\n",
        "       cvs = CVS(model_f,model_m,x_female, x_male)\n",
        "       return accu,cvs"
      ],
      "execution_count": null,
      "outputs": []
    },
    {
      "cell_type": "markdown",
      "metadata": {
        "id": "cm_J3VwJMtJc"
      },
      "source": [
        "## 5.change eta and observe the change of accuracy and CV-score"
      ]
    },
    {
      "cell_type": "code",
      "metadata": {
        "id": "cmThrMH9IBrH"
      },
      "source": [
        "PR = PRLR(eta = 1.0, epochs = 3000, lr = 0.01)"
      ],
      "execution_count": null,
      "outputs": []
    },
    {
      "cell_type": "code",
      "metadata": {
        "colab": {
          "base_uri": "https://localhost:8080/"
        },
        "id": "n1xx1GYBII_L",
        "outputId": "45c03611-d012-46d4-8a03-9af9721dfa32"
      },
      "source": [
        "t.tensor(PR.fit(x_female,y_female,x_male,y_male)).reshape(2,1)"
      ],
      "execution_count": null,
      "outputs": [
        {
          "output_type": "execute_result",
          "data": {
            "text/plain": [
              "tensor([[0.8444],\n",
              "        [0.1125]])"
            ]
          },
          "metadata": {
            "tags": []
          },
          "execution_count": 53
        }
      ]
    },
    {
      "cell_type": "markdown",
      "metadata": {
        "id": "w1hlo6X5M9Bj"
      },
      "source": [
        "## 6.Results Plot"
      ]
    },
    {
      "cell_type": "code",
      "metadata": {
        "id": "Wd7Tfk78MjEH"
      },
      "source": [
        "eta_value = [0.0,1.0,2.0,3.0,4.0,5.0,10.0,15.0,20.0,25.0,30.0,80.0]\n",
        "PR = PRLR(eta = 0.0, epochs = 3000, lr = 0.01)\n",
        "accv = t.tensor(PR.fit(x_female,y_female,x_male,y_male)).reshape(2,1)"
      ],
      "execution_count": null,
      "outputs": []
    },
    {
      "cell_type": "code",
      "metadata": {
        "id": "Gi8Re90_NfYX"
      },
      "source": [
        "for e in range(1,len(eta_value)):\n",
        "  PR = PRLR(eta = eta_value[e], epochs = 3000, lr = 0.01)\n",
        "  accv2 = t.tensor(PR.fit(x_female,y_female,x_male,y_male)).reshape(2,1)\n",
        "  accv = t.cat((accv,accv2),1)"
      ],
      "execution_count": null,
      "outputs": []
    },
    {
      "cell_type": "code",
      "metadata": {
        "colab": {
          "base_uri": "https://localhost:8080/"
        },
        "id": "NitUUxR66zW7",
        "outputId": "a5d72f3e-aca2-4624-f933-a74ccf3ff4d0"
      },
      "source": [
        "accv"
      ],
      "execution_count": null,
      "outputs": [
        {
          "output_type": "execute_result",
          "data": {
            "text/plain": [
              "tensor([[0.8457, 0.8444, 0.8406, 0.8404, 0.8368, 0.8362, 0.8349, 0.8347, 0.8313,\n",
              "         0.8311, 0.8309, 0.8306],\n",
              "        [0.1679, 0.1125, 0.0725, 0.0708, 0.0567, 0.0527, 0.0340, 0.0311, 0.0192,\n",
              "         0.0138, 0.0118, 0.0074]])"
            ]
          },
          "metadata": {
            "tags": []
          },
          "execution_count": 56
        }
      ]
    },
    {
      "cell_type": "code",
      "metadata": {
        "id": "HIlY5OFn6-jl"
      },
      "source": [
        "eta_accu = accv[0].tolist()\n",
        "eta_cvs = accv[1].tolist()"
      ],
      "execution_count": null,
      "outputs": []
    },
    {
      "cell_type": "code",
      "metadata": {
        "colab": {
          "base_uri": "https://localhost:8080/",
          "height": 279
        },
        "id": "SmzFD59b4_wi",
        "outputId": "85e7a6d8-05aa-483c-d6e3-b31bcb65d25e"
      },
      "source": [
        "plt.plot(eta_value,eta_accu)\n",
        "plt.xlabel('Parameter for Prejudice Remover')\n",
        "plt.ylabel('Accuracy')\n",
        "plt.show()"
      ],
      "execution_count": null,
      "outputs": [
        {
          "output_type": "display_data",
          "data": {
            "image/png": "[encoded data removed]",
            "text/plain": [
              "<Figure size 432x288 with 1 Axes>"
            ]
          },
          "metadata": {
            "tags": [],
            "needs_background": "light"
          }
        }
      ]
    },
    {
      "cell_type": "code",
      "metadata": {
        "colab": {
          "base_uri": "https://localhost:8080/",
          "height": 279
        },
        "id": "Qh-m_ao2_Aoq",
        "outputId": "1fa60710-bc95-4a9f-abd7-e8a6ad14c95e"
      },
      "source": [
        "plt.plot(eta_value,eta_cvs)\n",
        "plt.xlabel('Parameter for Prejudice Remover')\n",
        "plt.ylabel('CV_score')\n",
        "plt.show()"
      ],
      "execution_count": null,
      "outputs": [
        {
          "output_type": "display_data",
          "data": {
            "image/png": "[encoded data removed]",
            "text/plain": [
              "<Figure size 432x288 with 1 Axes>"
            ]
          },
          "metadata": {
            "tags": [],
            "needs_background": "light"
          }
        }
      ]
    },
    {
      "cell_type": "code",
      "metadata": {
        "id": "r39F73jVAdH7"
      },
      "source": [
        ""
      ],
      "execution_count": null,
      "outputs": []
    }
  ]
}